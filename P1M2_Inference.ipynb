{
 "cells": [
  {
   "cell_type": "markdown",
   "metadata": {},
   "source": [
    "Nama        : Amelia Puspita Sari\n",
    "\n",
    "Batch       : RMT-30\n",
    "\n",
    "Objectives  : menjalankan inference untuk prediksi data dengan model terbaik "
   ]
  },
  {
   "cell_type": "code",
   "execution_count": 2,
   "metadata": {},
   "outputs": [],
   "source": [
    "# import libraries\n",
    "import pandas as pd\n",
    "import numpy as np\n",
    "import pickle\n",
    "import json"
   ]
  },
  {
   "cell_type": "code",
   "execution_count": 3,
   "metadata": {},
   "outputs": [],
   "source": [
    "## load files\n",
    "\n",
    "with open('cat_col.txt', 'r') as file_1:\n",
    "  cat_col = json.load(file_1)\n",
    "\n",
    "with open('num_col.txt', 'r') as file_2:\n",
    "  num_col = json.load(file_2)\n",
    "\n",
    "with open('model_rf.pkl', 'rb') as file_3:\n",
    "  model_rf = pickle.load(file_3)\n"
   ]
  },
  {
   "cell_type": "code",
   "execution_count": 6,
   "metadata": {},
   "outputs": [
    {
     "data": {
      "text/html": [
       "<div>\n",
       "<style scoped>\n",
       "    .dataframe tbody tr th:only-of-type {\n",
       "        vertical-align: middle;\n",
       "    }\n",
       "\n",
       "    .dataframe tbody tr th {\n",
       "        vertical-align: top;\n",
       "    }\n",
       "\n",
       "    .dataframe thead th {\n",
       "        text-align: right;\n",
       "    }\n",
       "</style>\n",
       "<table border=\"1\" class=\"dataframe\">\n",
       "  <thead>\n",
       "    <tr style=\"text-align: right;\">\n",
       "      <th></th>\n",
       "      <th>host_id</th>\n",
       "      <th>neighbourhood_group</th>\n",
       "      <th>neighbourhood</th>\n",
       "      <th>latitude</th>\n",
       "      <th>longitude</th>\n",
       "      <th>room_type</th>\n",
       "      <th>minimum_nights</th>\n",
       "      <th>number_of_reviews</th>\n",
       "      <th>reviews_per_month</th>\n",
       "      <th>calculated_host_listings_count</th>\n",
       "      <th>availability_365</th>\n",
       "    </tr>\n",
       "  </thead>\n",
       "  <tbody>\n",
       "    <tr>\n",
       "      <th>0</th>\n",
       "      <td>4000</td>\n",
       "      <td>Manhattan</td>\n",
       "      <td>Upper West Side</td>\n",
       "      <td>40.82085</td>\n",
       "      <td>-73.94025</td>\n",
       "      <td>Private room</td>\n",
       "      <td>1</td>\n",
       "      <td>0</td>\n",
       "      <td>0</td>\n",
       "      <td>2</td>\n",
       "      <td>163</td>\n",
       "    </tr>\n",
       "  </tbody>\n",
       "</table>\n",
       "</div>"
      ],
      "text/plain": [
       "   host_id neighbourhood_group    neighbourhood  latitude  longitude  \\\n",
       "0     4000           Manhattan  Upper West Side  40.82085  -73.94025   \n",
       "\n",
       "      room_type  minimum_nights  number_of_reviews  reviews_per_month  \\\n",
       "0  Private room               1                  0                  0   \n",
       "\n",
       "   calculated_host_listings_count  availability_365  \n",
       "0                               2               163  "
      ]
     },
     "execution_count": 6,
     "metadata": {},
     "output_type": "execute_result"
    }
   ],
   "source": [
    "# data inference\n",
    "df_inf = {\n",
    "    'host_id': [4000], \n",
    "    'neighbourhood_group': ['Manhattan'], \n",
    "    'neighbourhood': ['Upper West Side'], \n",
    "    'latitude': [40.82085],\n",
    "    'longitude': [-73.94025],\n",
    "    'room_type': ['Private room'],\n",
    "    'minimum_nights': [1], \n",
    "    'number_of_reviews': [0], \n",
    "    'reviews_per_month': [0], \n",
    "    'calculated_host_listings_count': [2],\n",
    "    'availability_365': [163]\n",
    "}\n",
    "\n",
    "df_inf = pd.DataFrame(df_inf)\n",
    "df_inf"
   ]
  },
  {
   "cell_type": "code",
   "execution_count": 8,
   "metadata": {},
   "outputs": [
    {
     "name": "stdout",
     "output_type": "stream",
     "text": [
      "Price prediction: [202.50599139]\n",
      "Price prediction: 202.506\n"
     ]
    }
   ],
   "source": [
    "# prediksi dengan random forest\n",
    "y_pred_inf = model_rf.predict(df_inf)\n",
    "print('Price prediction:',y_pred_inf) #before\n",
    "print('Price prediction:',round(y_pred_inf[0],3)) #after"
   ]
  }
 ],
 "metadata": {
  "kernelspec": {
   "display_name": "fox",
   "language": "python",
   "name": "python3"
  },
  "language_info": {
   "codemirror_mode": {
    "name": "ipython",
    "version": 3
   },
   "file_extension": ".py",
   "mimetype": "text/x-python",
   "name": "python",
   "nbconvert_exporter": "python",
   "pygments_lexer": "ipython3",
   "version": "3.11.8"
  }
 },
 "nbformat": 4,
 "nbformat_minor": 2
}
